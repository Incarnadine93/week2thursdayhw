{
 "cells": [
  {
   "cell_type": "markdown",
   "metadata": {},
   "source": [
    "# Object-Oriented-Programming (OOP)"
   ]
  },
  {
   "cell_type": "markdown",
   "metadata": {},
   "source": [
    "## Tasks Today:\n",
    "\n",
    "   \n",
    "\n",
    "1) <b>Creating a Class (Initializing/Declaring)</b> <br>\n",
    "2) <b>Using a Class (Instantiating)</b> <br>\n",
    " &nbsp;&nbsp;&nbsp;&nbsp; a) Creating One Instance <br>\n",
    " &nbsp;&nbsp;&nbsp;&nbsp; b) Creating Multiple Instances <br>\n",
    " &nbsp;&nbsp;&nbsp;&nbsp; c) In-Class Exercise #1 - Create a Class 'Car' and instantiate three different makes of cars <br>\n",
    "3) <b>The \\__init\\__() Method</b> <br>\n",
    " &nbsp;&nbsp;&nbsp;&nbsp; a) The 'self' Attribute <br>\n",
    "4) <b>Class Attributes</b> <br>\n",
    " &nbsp;&nbsp;&nbsp;&nbsp; a) Initializing Attributes <br>\n",
    " &nbsp;&nbsp;&nbsp;&nbsp; b) Setting an Attribute Outside of the \\__init\\__() Method <br>\n",
    " &nbsp;&nbsp;&nbsp;&nbsp; c) Setting Defaults for Attributes <br>\n",
    " &nbsp;&nbsp;&nbsp;&nbsp; d) Accessing Class Attributes <br>\n",
    " &nbsp;&nbsp;&nbsp;&nbsp; e) Changing Class Attributes <br>\n",
    " &nbsp;&nbsp;&nbsp;&nbsp; f) In-Class Exercise #2 - Add a color and wheels attribute to your 'Car' class <br>\n",
    "5) <b>Class Methods</b> <br>\n",
    " &nbsp;&nbsp;&nbsp;&nbsp; a) Creating <br>\n",
    " &nbsp;&nbsp;&nbsp;&nbsp; b) Calling <br>\n",
    " &nbsp;&nbsp;&nbsp;&nbsp; c) Modifying an Attribute's Value Through a Method <br>\n",
    " &nbsp;&nbsp;&nbsp;&nbsp; d) Incrementing an Attribute's Value Through a Method <br>\n",
    " &nbsp;&nbsp;&nbsp;&nbsp; e) In-Class Exercise #3 - Add a method that prints the cars color and wheel number, then call them <br>\n",
    "6) <b>Inheritance</b> <br>\n",
    " &nbsp;&nbsp;&nbsp;&nbsp; a) Syntax for Inheriting from a Parent Class <br>\n",
    " &nbsp;&nbsp;&nbsp;&nbsp; b) The \\__init\\__() Method for a Child Class (super()) <br>\n",
    " &nbsp;&nbsp;&nbsp;&nbsp; c) Defining Attributes and Methods for the Child Class <br>\n",
    " &nbsp;&nbsp;&nbsp;&nbsp; d) Method Overriding <br>\n",
    " &nbsp;&nbsp;&nbsp;&nbsp; e) In-Class Exercise #4 - Create a class 'Ford' that inherits from 'Car' class and initialize it as a Blue Ford Explorer with 4 wheels using the super() method <br>\n",
    "7) <b>Classes as Attributes</b> <br>\n",
    "8) <b>Exercises</b> <br>\n",
    " &nbsp;&nbsp;&nbsp;&nbsp; a) Exercise #1 - Turn the shopping cart program from yesterday into an object-oriented program <br>"
   ]
  },
  {
   "cell_type": "markdown",
   "metadata": {},
   "source": [
    "## Creating a Class (Initializing/Declaring)\n",
    "<p>When creating a class, function, or even a variable you are initializing that object. Initializing and Declaring occur at the same time in Python, whereas in lower level languages you have to declare an object before initializing it. This is the first step in the process of using a class.</p>"
   ]
  },
  {
   "cell_type": "code",
   "execution_count": 2,
   "metadata": {},
   "outputs": [],
   "source": [
    "class Car():\n",
    "    wheels = 4\n",
    "    color = 'blue'"
   ]
  },
  {
   "cell_type": "markdown",
   "metadata": {},
   "source": [
    "## Using a Class (Instantiating)\n",
    "<p>The process of creating a class is called <i>Instantiating</i>. Each time you create a variable of that type of class, it is referred to as an <i>Instance</i> of that class. This is the second step in the process of using a class.</p>"
   ]
  },
  {
   "cell_type": "markdown",
   "metadata": {},
   "source": [
    "##### Creating One Instance"
   ]
  },
  {
   "cell_type": "code",
   "execution_count": 4,
   "metadata": {},
   "outputs": [
    {
     "name": "stdout",
     "output_type": "stream",
     "text": [
      "<class '__main__.Car'>\n",
      "blue\n",
      "rounded\n",
      "blue\n"
     ]
    }
   ],
   "source": [
    "chevy = Car()\n",
    "honda = Car()\n",
    "porsche = Car()\n",
    "\n",
    "print(type(chevy))\n",
    "print(honda.color)\n",
    "# print(porsche.bumper)\n",
    "\n",
    "porsche.bumper = 'rounded'\n",
    "print(porsche.bumper)\n",
    "print(porsche.color)"
   ]
  },
  {
   "cell_type": "markdown",
   "metadata": {},
   "source": [
    "##### Creating Multiple Instances"
   ]
  },
  {
   "cell_type": "code",
   "execution_count": null,
   "metadata": {},
   "outputs": [],
   "source": [
    "chevy = Car()\n",
    "honda = Car()\n",
    "porsche = Car()\n",
    "\n",
    "print(type(chevy))\n",
    "print(honda.color)\n",
    "# print(porsche.bumper)\n",
    "\n",
    "porsche.bumper = 'rounded'\n",
    "print(porsche.bumper)\n",
    "print(porsche.color)"
   ]
  },
  {
   "cell_type": "markdown",
   "metadata": {},
   "source": [
    "##### In-Class Exercise #1 - Create a Class 'Car' and Instantiate three different makes of cars"
   ]
  },
  {
   "cell_type": "code",
   "execution_count": null,
   "metadata": {},
   "outputs": [],
   "source": [
    "class Motorcycle():\n",
    "    cylinder = 4\n",
    "    gas = premium\n",
    "\n",
    "\n",
    "honda = Motorcycle()\n",
    "yamaha = Motorcycle()\n",
    "ducati = Motorcycle()"
   ]
  },
  {
   "cell_type": "markdown",
   "metadata": {},
   "source": [
    "## The \\__init\\__() Method <br>\n",
    "<p>This method is used in almost every created class, and called only once upon the creation of the class instance. This method will initialize all variables needed for the object.</p>"
   ]
  },
  {
   "cell_type": "code",
   "execution_count": 15,
   "metadata": {},
   "outputs": [
    {
     "name": "stdout",
     "output_type": "stream",
     "text": [
      "5\n",
      "4\n"
     ]
    }
   ],
   "source": [
    "class Car():\n",
    "    wheels = 4 # constant-attribute\n",
    "    \n",
    "    def __init__(self, wheels, color):\n",
    "        self.wheels = wheels\n",
    "        self.color = color\n",
    "        \n",
    "ford = Car(4, 'brown')\n",
    "honda = Car(5, 'red')\n",
    "\n",
    "print(honda.wheels)\n",
    "\n",
    "print(ford.wheels)"
   ]
  },
  {
   "cell_type": "markdown",
   "metadata": {},
   "source": [
    "##### The 'self' Attribute <br>\n",
    "<p>This attribute is required to keep track of specific instance's attributes. Without the self attribute, the program would not know how to reference or keep track of an instance's attributes.</p>"
   ]
  },
  {
   "cell_type": "code",
   "execution_count": null,
   "metadata": {},
   "outputs": [],
   "source": [
    "# see above"
   ]
  },
  {
   "cell_type": "markdown",
   "metadata": {},
   "source": [
    "## Class Attributes <br>\n",
    "<p>While variables are inside of a class, they are referred to as attributes and not variables. When someone says 'attribute' you know they're speaking about a class. Attributes can be initialized through the init method, or outside of it.</p>"
   ]
  },
  {
   "cell_type": "markdown",
   "metadata": {},
   "source": [
    "##### Initializing Attributes"
   ]
  },
  {
   "cell_type": "code",
   "execution_count": 17,
   "metadata": {},
   "outputs": [
    {
     "name": "stdout",
     "output_type": "stream",
     "text": [
      "super-lourd\n"
     ]
    }
   ],
   "source": [
    "# see above\n",
    "\n",
    "class Toy():\n",
    "    def __init__(self, horn, wheels):\n",
    "        self.horn = horn\n",
    "        self.wheels = wheels\n",
    "        \n",
    "tonka = Toy('super-loud', 12)\n",
    "hotwheels = Toy('tiny-squek', 4)\n",
    "\n",
    "print(tonka.horn)\n"
   ]
  },
  {
   "cell_type": "markdown",
   "metadata": {},
   "source": [
    "##### Accessing Class Attributes"
   ]
  },
  {
   "cell_type": "code",
   "execution_count": 18,
   "metadata": {
    "scrolled": true
   },
   "outputs": [
    {
     "name": "stdout",
     "output_type": "stream",
     "text": [
      "4\n"
     ]
    }
   ],
   "source": [
    "# See Above\n",
    "print(hotwheels.wheels)"
   ]
  },
  {
   "cell_type": "markdown",
   "metadata": {},
   "source": [
    "##### Setting Defaults for Attributes"
   ]
  },
  {
   "cell_type": "code",
   "execution_count": 1,
   "metadata": {},
   "outputs": [
    {
     "name": "stdout",
     "output_type": "stream",
     "text": [
      "Black\n",
      "auto\n"
     ]
    }
   ],
   "source": [
    "class Car():\n",
    "    def __init__(self, wheels, trans='auto'):\n",
    "        self.wheels = wheels\n",
    "        self.color = \"Black\"\n",
    "        self.trans = trans\n",
    "        \n",
    "ford = Car(4)\n",
    "print(ford.color)\n",
    "print(ford.trans)"
   ]
  },
  {
   "cell_type": "markdown",
   "metadata": {},
   "source": [
    "##### Changing Class Attributes <br>\n",
    "<p>Keep in mind there are global class attributes and then there are attributes only available to each class instance which won't effect other classes.</p>"
   ]
  },
  {
   "cell_type": "code",
   "execution_count": 2,
   "metadata": {},
   "outputs": [
    {
     "name": "stdout",
     "output_type": "stream",
     "text": [
      "White\n"
     ]
    }
   ],
   "source": [
    "ford.color = 'White'\n",
    "\n",
    "print(ford.color)"
   ]
  },
  {
   "cell_type": "code",
   "execution_count": null,
   "metadata": {},
   "outputs": [],
   "source": [
    "class Car():\n",
    "    def __init__(self, wheels, trans='auto', doors, seats):\n",
    "        self.wheels = wheels\n",
    "        self.color = 'Black'\n",
    "        self.trans = trans\n",
    "        self.doors = 2\n",
    "        self.seats = 2\n",
    "        \n",
    "z4 = Car(4, blue, auto, 2, 2)\n",
    "veloster = Car(4, red, manual, 3, 5)"
   ]
  },
  {
   "cell_type": "markdown",
   "metadata": {},
   "source": [
    "##### In-Class Exercise #2 - Add a doors and seats attribute to your 'Car' class then print out two different instances with different doors and seats"
   ]
  },
  {
   "cell_type": "code",
   "execution_count": null,
   "metadata": {},
   "outputs": [],
   "source": [
    "class Car():\n",
    "    def __init__(self,wheels, trans='auto',  doors, seats):\n",
    "        self.wheels = wheels\n",
    "        self.color = 'Black'\n",
    "        self.trans = trans\n",
    "        self.doors = 2\n",
    "        self.seats = 2\n",
    "        \n",
    "z4 = Car(4, blue, auto, 2, 2)\n",
    "veloster = Car(4, red, manual, 3, 5)"
   ]
  },
  {
   "cell_type": "markdown",
   "metadata": {},
   "source": [
    "## Class Methods <br>\n",
    "<p>While inside of a class, functions are referred to as 'methods'. If you hear someone mention methods, they're speaking about classes. Methods are essentially functions, but only callable on the instances of a class.</p>"
   ]
  },
  {
   "cell_type": "markdown",
   "metadata": {},
   "source": [
    "##### Creating"
   ]
  },
  {
   "cell_type": "code",
   "execution_count": null,
   "metadata": {},
   "outputs": [],
   "source": [
    "class Truck():\n",
    "    '''\n",
    "    class Truck that will have some basic attributes like wheels, gas tank, and items in the back.\n",
    "    \n",
    "    '''\n",
    "    def __init__(self, wheels, gallons, items):\n",
    "        self.wheels = wheels\n",
    "        self.gas_tank = gallons\n",
    "        self.items = items\n",
    "        \n",
    "    def showItems(self):\n",
    "        print(\"Let's look in the back and see what there is . . .\")\n",
    "        for i in items:\n",
    "            print(i)\n",
    "            \n",
    "    def showTank(self):\n",
    "        print(f\"you've got {self.gas_tank} gallons of gas\")\n",
    "        \n",
    "    def addItems(self):\n",
    "        item - input(\"What are you throwing in the back?\")\n",
    "        self.items.append(self)\n",
    "        \n",
    "    def checkTank(self, gallons):\n",
    "        self.gas_tank = gallons\n",
    "        \n",
    "    def filltank(self, gallons):\n",
    "        self.gas_tank += gallons\n",
    "        print(f\"Now you've got {self.gas_tank} gallons of gas!\")\n",
    "        \n",
    "\n",
    "def run():\n",
    "    while True:\n",
    "        resp = input(\"What to do  a for add items, s for show, q for quit\")\n",
    "        \n",
    "        if resp.lower() == \"q\":\n",
    "            dodge.showItems()\n",
    "            print(\"thanks for spending time with the truck game\")\n",
    "            break\n",
    "        elif resp.lower() == \"a\":\n",
    "            dodge.addItems()\n",
    "        elif resp.lower() == \"s\":\n",
    "            dodge.showItems()"
   ]
  },
  {
   "cell_type": "markdown",
   "metadata": {},
   "source": [
    "##### Calling"
   ]
  },
  {
   "cell_type": "code",
   "execution_count": null,
   "metadata": {},
   "outputs": [],
   "source": [
    "# See Above\n",
    "dodge = Truck(4, 10, [])\n",
    "\n",
    "\n",
    "dodge.run()\n",
    "            \n",
    "        "
   ]
  },
  {
   "cell_type": "markdown",
   "metadata": {},
   "source": [
    "##### Modifying an Attribute's Value Through a Method"
   ]
  },
  {
   "cell_type": "code",
   "execution_count": null,
   "metadata": {},
   "outputs": [],
   "source": [
    "dodge.showtank()\n",
    "dodge.showTank()"
   ]
  },
  {
   "cell_type": "markdown",
   "metadata": {},
   "source": [
    "##### Incrementing an Attribute's Value Through a Method"
   ]
  },
  {
   "cell_type": "code",
   "execution_count": null,
   "metadata": {},
   "outputs": [],
   "source": [
    "dodge.fillTank.(24)\n",
    "dodge.showtank()"
   ]
  },
  {
   "cell_type": "markdown",
   "metadata": {},
   "source": [
    "##### In-Class Exercise #3 - Add a method that takes in three parameters of year, doors and seats and prints out a formatted print statement with make, model, year, seats, and doors"
   ]
  },
  {
   "cell_type": "code",
   "execution_count": 35,
   "metadata": {},
   "outputs": [
    {
     "ename": "AttributeError",
     "evalue": "'Car' object has no attribute 'year'",
     "output_type": "error",
     "traceback": [
      "\u001b[1;31m---------------------------------------------------------------------------\u001b[0m",
      "\u001b[1;31mAttributeError\u001b[0m                            Traceback (most recent call last)",
      "\u001b[1;32m~\\AppData\\Local\\Temp\\ipykernel_23932\\1669167890.py\u001b[0m in \u001b[0;36m<module>\u001b[1;34m\u001b[0m\n\u001b[0;32m     14\u001b[0m \u001b[1;33m\u001b[0m\u001b[0m\n\u001b[0;32m     15\u001b[0m \u001b[0malfa\u001b[0m \u001b[1;33m=\u001b[0m \u001b[0mCar\u001b[0m\u001b[1;33m(\u001b[0m\u001b[1;34m\"Alfa Romero\"\u001b[0m\u001b[1;33m,\u001b[0m \u001b[1;34m\"Special\"\u001b[0m\u001b[1;33m)\u001b[0m\u001b[1;33m\u001b[0m\u001b[1;33m\u001b[0m\u001b[0m\n\u001b[1;32m---> 16\u001b[1;33m \u001b[0malfa\u001b[0m\u001b[1;33m.\u001b[0m\u001b[0maddDeets\u001b[0m\u001b[1;33m(\u001b[0m\u001b[1;36m1978\u001b[0m\u001b[1;33m,\u001b[0m \u001b[1;36m3\u001b[0m\u001b[1;33m,\u001b[0m \u001b[1;36m5\u001b[0m\u001b[1;33m)\u001b[0m\u001b[1;33m\u001b[0m\u001b[1;33m\u001b[0m\u001b[0m\n\u001b[0m\u001b[0;32m     17\u001b[0m \u001b[1;33m\u001b[0m\u001b[0m\n\u001b[0;32m     18\u001b[0m \u001b[1;33m\u001b[0m\u001b[0m\n",
      "\u001b[1;32m~\\AppData\\Local\\Temp\\ipykernel_23932\\1669167890.py\u001b[0m in \u001b[0;36maddDeets\u001b[1;34m(self, year, doors, seats)\u001b[0m\n\u001b[0;32m     11\u001b[0m \u001b[1;33m\u001b[0m\u001b[0m\n\u001b[0;32m     12\u001b[0m     \u001b[1;32mdef\u001b[0m \u001b[0maddDeets\u001b[0m\u001b[1;33m(\u001b[0m\u001b[0mself\u001b[0m\u001b[1;33m,\u001b[0m \u001b[0myear\u001b[0m\u001b[1;33m,\u001b[0m \u001b[0mdoors\u001b[0m\u001b[1;33m,\u001b[0m \u001b[0mseats\u001b[0m\u001b[1;33m)\u001b[0m\u001b[1;33m:\u001b[0m\u001b[1;33m\u001b[0m\u001b[1;33m\u001b[0m\u001b[0m\n\u001b[1;32m---> 13\u001b[1;33m         \u001b[0mprint\u001b[0m\u001b[1;33m(\u001b[0m\u001b[1;34mf\"This car is from {self.year} and is a {self.make} {self.model} and has {self.door} doors and {self.seats}\"\u001b[0m\u001b[1;33m)\u001b[0m\u001b[1;33m\u001b[0m\u001b[1;33m\u001b[0m\u001b[0m\n\u001b[0m\u001b[0;32m     14\u001b[0m \u001b[1;33m\u001b[0m\u001b[0m\n\u001b[0;32m     15\u001b[0m \u001b[0malfa\u001b[0m \u001b[1;33m=\u001b[0m \u001b[0mCar\u001b[0m\u001b[1;33m(\u001b[0m\u001b[1;34m\"Alfa Romero\"\u001b[0m\u001b[1;33m,\u001b[0m \u001b[1;34m\"Special\"\u001b[0m\u001b[1;33m)\u001b[0m\u001b[1;33m\u001b[0m\u001b[1;33m\u001b[0m\u001b[0m\n",
      "\u001b[1;31mAttributeError\u001b[0m: 'Car' object has no attribute 'year'"
     ]
    }
   ],
   "source": [
    "# Create class with 2 paramters inside of the __init__ which are make and model\n",
    "\n",
    "# Inside of the Car class create a method that has 4 parameter in total (self,year,door,seats)\n",
    "\n",
    "# Output: This car is from 2019 and is a Ford Expolorer and has 4 doors and 5 seats\n",
    "\n",
    "class Car():\n",
    "    def __init__(self, make, model):\n",
    "        self.make = make\n",
    "        self.model = model\n",
    "    \n",
    "    def addDeets(self, year, doors, seats):\n",
    "        print(f\"This car is from {self.year} and is a {self.make} {self.model} and has {self.door} doors and {self.seats}\")\n",
    "        \n",
    "alfa = Car(\"Alfa Romero\", \"Special\")\n",
    "alfa.addDeets(1978, 3, 5)\n",
    "\n",
    "\n",
    "\n",
    "# Ford = Car(Ford, Explorer)\n",
    "# Ford.year = '2012'\n",
    "# Ford.doors = \"3\"\n",
    "# Ford.seats = \"6\"\n",
    "\n",
    "# print(f\"This car is from {ford.year} and is a {Ford.make} {Ford.model} and has {Ford.doors} doors and {Ford.seats} seats\")\n"
   ]
  },
  {
   "cell_type": "markdown",
   "metadata": {},
   "source": [
    "## Inheritance <br>\n",
    "<p>You can create a child-parent relationship between two classes by using inheritance. What this allows you to do is have overriding methods, but also inherit traits from the parent class. Think of it as an actual parent and child, the child will inherit the parent's genes, as will the classes in OOP</p>"
   ]
  },
  {
   "cell_type": "markdown",
   "metadata": {},
   "source": [
    "##### Syntax for Inheriting from a Parent Class"
   ]
  },
  {
   "cell_type": "code",
   "execution_count": 43,
   "metadata": {},
   "outputs": [
    {
     "name": "stdout",
     "output_type": "stream",
     "text": [
      "breathing sound\n",
      "None\n",
      "Bark!\n"
     ]
    }
   ],
   "source": [
    "class Animal():\n",
    "    def __init__(self, name, species, legs=4):\n",
    "        self.name = name\n",
    "        self.species = species\n",
    "        self.legts = legs\n",
    "        \n",
    "    def makesound(self):\n",
    "        print('breathing sound')\n",
    "        \n",
    "# class Cat(Animal):\n",
    "#     pass\n",
    "\n",
    "# bear = Animal(\"Big Brown\", \"Brown Bear\")\n",
    "# print(bear)\n",
    "# print(bear.name)\n",
    "\n",
    "# c = Cat(\"Felix\", \"feline\")\n",
    "# print(c)\n",
    "# print(c.name)\n",
    "# c.makesound()\n",
    "\n",
    "class Dog(Animal):\n",
    "    \n",
    "    def printInfo(self):\n",
    "        print(f\"the dog has {self.legs} legs and is a member of the {self.species} family\")\n",
    "\n",
    "class Mutt(Dog):\n",
    "        color = 'black/brown'\n",
    "        def __init__(self, name, species, eye_color, legs = 4):\n",
    "            Dog.__init__(self, name, species, legs)\n",
    "            self.eye_color = eye_color\n",
    "            \n",
    "        def makesound(self):\n",
    "            return 'Bark!'\n",
    "lassie = Dog(\"Lassie\", \"Canine\")\n",
    "bear = Animal(\"Big Brown\", \"Brown Bear\")\n",
    "fido = Mutt(\"Fido\", \"Mutt\", \"brown\")\n",
    "\n",
    "print(bear.makesound())\n",
    "print(fido.makesound())"
   ]
  },
  {
   "cell_type": "markdown",
   "metadata": {},
   "source": [
    "##### The \\__init\\__() Method for a Child Class - super()"
   ]
  },
  {
   "cell_type": "code",
   "execution_count": null,
   "metadata": {
    "scrolled": true
   },
   "outputs": [],
   "source": [
    "class Mutt(Dog):\n",
    "        color = 'black/brown'\n",
    "        #Over-writting the Animal class __init__ method\n",
    "        def __init__(self, name, species, eye_color, legs = 4):\n",
    "            super().__init__(self, name, species, legs)\n",
    "            self.eye_color = eye_color\n",
    "            \n",
    "        def makesound(self):\n",
    "            return 'Bark!'"
   ]
  },
  {
   "cell_type": "markdown",
   "metadata": {},
   "source": [
    "##### Defining Attributes and Methods for the Child Class"
   ]
  },
  {
   "cell_type": "code",
   "execution_count": null,
   "metadata": {},
   "outputs": [],
   "source": [
    "# See Above"
   ]
  },
  {
   "cell_type": "markdown",
   "metadata": {},
   "source": [
    "##### Method Overriding"
   ]
  },
  {
   "cell_type": "code",
   "execution_count": null,
   "metadata": {},
   "outputs": [],
   "source": [
    "# See Above"
   ]
  },
  {
   "cell_type": "markdown",
   "metadata": {},
   "source": [
    "## Classes as Attributes <br>\n",
    "<p>Classes can also be used as attributes within another class. This is useful in situations where you need to keep variables locally stored, instead of globally stored.</p>"
   ]
  },
  {
   "cell_type": "code",
   "execution_count": 48,
   "metadata": {},
   "outputs": [
    {
     "name": "stdout",
     "output_type": "stream",
     "text": [
      "212\n"
     ]
    },
    {
     "data": {
      "text/plain": [
       "'2023 Tesla X 212'"
      ]
     },
     "execution_count": 48,
     "metadata": {},
     "output_type": "execute_result"
    }
   ],
   "source": [
    "class Battery():\n",
    "    def __init__(self, cells):\n",
    "        self.volts = 12\n",
    "        self.cells = cells\n",
    "class ElecCar():\n",
    "    def __init__(self, year, make, model, battery):\n",
    "        self.year = year\n",
    "        self.make = make\n",
    "        self.model = model\n",
    "        self.battery = battery\n",
    "    def printInfo(self):\n",
    "        return f\"{self.year} {self.make} {self.model} {self.battery.cells}\"\n",
    "    \n",
    "batt = Battery(212)\n",
    "\n",
    "tesla = ElecCar(2023, 'Tesla', 'X', batt)\n",
    "print(tesla.battery.cells)\n",
    "tesla.printInfo()"
   ]
  },
  {
   "cell_type": "markdown",
   "metadata": {},
   "source": [
    "# Exercises"
   ]
  },
  {
   "cell_type": "markdown",
   "metadata": {},
   "source": [
    "### Exercise 1 - Turn the shopping cart program from yesterday into an object-oriented program\n",
    "\n",
    "The comments in the cell below are there as a guide for thinking about the problem. However, if you feel a different way is best for you and your own thought process, please do what feels best for you by all means."
   ]
  },
  {
   "cell_type": "code",
   "execution_count": 3,
   "metadata": {},
   "outputs": [
    {
     "name": "stdout",
     "output_type": "stream",
     "text": [
      "Show/Add/Delete or Quit? add\n",
      "What is the item that you would like to add to the list? taquito\n",
      "What is the price of the item? 2\n",
      "Show/Add/Delete or Quit? taco\n",
      "That is not a valid input\n",
      "Show/Add/Delete or Quit? 3\n",
      "That is not a valid input\n",
      "Show/Add/Delete or Quit? add\n",
      "What is the item that you would like to add to the list? taco\n",
      "What is the price of the item? 3\n",
      "Show/Add/Delete or Quit? add\n",
      "What is the item that you would like to add to the list? burrito\n",
      "What is the price of the item? 7\n",
      "Show/Add/Delete or Quit? delete\n",
      "{'Taquito': '2', 'Taco': '3', 'Burrito': '7'}\n",
      "Which item did you want to remove? taquito\n",
      "Show/Add/Delete or Quit? show\n",
      "Item                                        Price\n",
      "-------------------------------------------------\n",
      "Taco                                         $3\n",
      "Burrito                                      $7\n",
      "Total: $10.0\n",
      "Show/Add/Delete or Quit? quit\n",
      "Item                                        Price\n",
      "-------------------------------------------------\n",
      "Taco                                         $3\n",
      "Burrito                                      $7\n",
      "Total: $10.0\n"
     ]
    }
   ],
   "source": [
    "# class Cart():\n",
    "#     def menu():\n",
    "#         while True:\n",
    "#             menu = input(\"Show/Add/Delete or Quit? \") #taking user input for desired next step\n",
    "#             if menu.lower() == 'add':\n",
    "#                 Cart.add()\n",
    "#             elif menu.lower() == 'delete':\n",
    "#                 Cart.remove()\n",
    "#             elif menu.lower() == 'show':\n",
    "#                 Cart.show()\n",
    "#             elif menu.lower() == 'quit':\n",
    "#                 Cart.show()\n",
    "#                 break\n",
    "#             else:\n",
    "#                 print(\"That is not a valid input\")\n",
    "#     def add():\n",
    "#         item = input(\"What is the item that you would like to add to the list? \") #user desired key\n",
    "#         price = input(\"What is the price of the item? \") #user desired value\n",
    "#         d_5[item.title()] = price # adding key/value to dictionary\n",
    "#     def remove():\n",
    "#         print(d_5)\n",
    "#         remove = input(\"Which item did you want to remove? \") #user desired key to be removed\n",
    "#         if remove.title() not in d_5: #confirming if key is even in dictionary\n",
    "#             print(\"That is not in the shopping cart\")\n",
    "#         else:    \n",
    "#             del d_5[remove.title()] # removing key from dictionary\n",
    "#     def show():\n",
    "#         print(\"Item                                        Price\") # thats 40 spaces\n",
    "#         print(\"-------------------------------------------------\")\n",
    "#         total = 0 # assigning total value\n",
    "#         for key, value in d_5.items():\n",
    "#             length = len(key) #length of key\n",
    "#             space = (\" \" * (45-length)) # space between key and value\n",
    "#             print(f\"{key}{space}${value}\")\n",
    "#             total += float(value) # actual total value\n",
    "#             round(total)\n",
    "#         print(f\"Total: ${total}\")\n",
    "        \n",
    "# d_5 = {}\n",
    "# Cart.menu()\n",
    "\n",
    "class Cart():\n",
    "    def __init__(self, customer) -> None:\n",
    "        self.customer = customer\n",
    "        self.cart = {} # assigning initial value to cart\n",
    "    def menu(customer):\n",
    "        while True:\n",
    "            menu = input(\"Show/Add/Delete or Quit? \") #taking user input for desired next step\n",
    "            if menu.lower() == 'add':\n",
    "                customer.add()\n",
    "            elif menu.lower() == 'delete':\n",
    "                customer.remove()\n",
    "            elif menu.lower() == 'show':\n",
    "                customer.show()\n",
    "            elif menu.lower() == 'quit':\n",
    "                customer.show()\n",
    "                break\n",
    "            else:\n",
    "                print(\"That is not a valid input\")\n",
    "    def add(self):\n",
    "        item = input(\"What is the item that you would like to add to the list? \") #user desired key\n",
    "        price = input(\"What is the price of the item? \") #user desired value\n",
    "        self.cart[item.title()] = price # adding key/value to dictionary\n",
    "    def remove(self):\n",
    "        print(self.cart)\n",
    "        remove = input(\"Which item did you want to remove? \") #user desired key to be removed\n",
    "        if remove.title() not in self.cart: #confirming if key is even in dictionary\n",
    "            print(\"That is not in the shopping cart\")\n",
    "        else:    \n",
    "            del self.cart[remove.title()] # removing key from dictionary\n",
    "    def show(self):\n",
    "        print(\"Item                                        Price\") # thats 40 spaces\n",
    "        print(\"-------------------------------------------------\")\n",
    "        total = 0 # assigning total value\n",
    "        for key, value in self.cart.items():\n",
    "            length = len(key) #length of key\n",
    "            space = (\" \" * (45-length)) # space between key and value\n",
    "            print(f\"{key}{space}${value}\")\n",
    "            total += float(value) # actual total value\n",
    "            round(total)\n",
    "        print(f\"Total: ${total}\")\n",
    "\n",
    "Carlson = Cart(())\n",
    "Cart.menu(Carlson)\n"
   ]
  },
  {
   "cell_type": "markdown",
   "metadata": {},
   "source": [
    "### Exercise 2 - Write a Python class which has two methods get_String and print_String. get_String accept a string from the user and print_String print the string in upper case"
   ]
  },
  {
   "cell_type": "code",
   "execution_count": null,
   "metadata": {},
   "outputs": [],
   "source": []
  },
  {
   "cell_type": "code",
   "execution_count": 1,
   "metadata": {},
   "outputs": [
    {
     "name": "stdout",
     "output_type": "stream",
     "text": [
      "Name your inputjustice\n",
      "Input a stringdo not fret\n",
      "do not fret\n"
     ]
    }
   ],
   "source": [
    "class whatever():\n",
    "    #line that obtains a string. another one that prints it out \n",
    "    def __init__(self):\n",
    "        self.string=()\n",
    "    def get_string(self):\n",
    "        self.string=(input(\"Input a string: \"))\n",
    "    def print_string(self):\n",
    "        print(self.string)\n",
    "\n",
    "name=input(\"Name your input\")\n",
    "name=whatever()\n",
    "\n",
    "def run():\n",
    "    name.get_string()\n",
    "    name.print_string()\n",
    "    \n",
    "run()"
   ]
  }
 ],
 "metadata": {
  "kernelspec": {
   "display_name": "Python 3 (ipykernel)",
   "language": "python",
   "name": "python3"
  },
  "language_info": {
   "codemirror_mode": {
    "name": "ipython",
    "version": 3
   },
   "file_extension": ".py",
   "mimetype": "text/x-python",
   "name": "python",
   "nbconvert_exporter": "python",
   "pygments_lexer": "ipython3",
   "version": "3.9.13"
  }
 },
 "nbformat": 4,
 "nbformat_minor": 2
}
